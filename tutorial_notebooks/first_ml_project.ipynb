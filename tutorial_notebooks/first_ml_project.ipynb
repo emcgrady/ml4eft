{
 "cells": [
  {
   "cell_type": "code",
   "execution_count": 1,
   "metadata": {},
   "outputs": [],
   "source": [
    "import numpy as np\n",
    "import matplotlib.pyplot as plt\n",
    "import pandas as pd\n",
    "%matplotlib inline \n",
    "import seaborn as sns\n",
    "from scipy import stats, integrate"
   ]
  },
  {
   "cell_type": "code",
   "execution_count": 2,
   "metadata": {},
   "outputs": [],
   "source": [
    "from sklearn.ensemble import AdaBoostClassifier\n",
    "from sklearn.ensemble import GradientBoostingClassifier\n",
    "from sklearn.ensemble import GradientBoostingRegressor\n",
    "from sklearn.tree import DecisionTreeClassifier\n",
    "from sklearn import metrics"
   ]
  },
  {
   "cell_type": "code",
   "execution_count": 3,
   "metadata": {},
   "outputs": [],
   "source": [
    "from mlxtend.plotting import plot_learning_curves\n",
    "from mlxtend.plotting import plot_decision_regions"
   ]
  },
  {
   "cell_type": "code",
   "execution_count": 4,
   "metadata": {},
   "outputs": [],
   "source": [
    "# Data from MAGIC Gamma Ray Telescope \n",
    "#   (Major Atmospheric Gamma Imaging Cherenkov Telescopes)\n",
    "#\n",
    "# Data hosted by UC Irvine Machine Learning Repository (https://archive.ics.uci.edu/ml/index.php):\n",
    "#  https://archive.ics.uci.fAsymedu/ml/datasets/MAGIC+Gamma+Telescope\n",
    "#\n",
    "# Infromation on data and variables:\n",
    "#  https://archive.ics.uci.edu/ml/machine-learning-databases/magic/magic04.names\n",
    "#  \n",
    "# Paper with some details on the data\n",
    "#  http://citeseerx.ist.psu.edu/viewdoc/download?doi=10.1.1.135.6914&rep=rep1&type=pdf\n",
    "#\n",
    "# Paper describing variable definitions in more detail:\n",
    "#  http://iopscience.iop.org/article/10.1088/0954-3899/23/9/004/pdf\n",
    "#\n",
    "# Important variables:\n",
    "#    1.  fLength:  continuous  # major axis of ellipse [mm]\n",
    "#    2.  fWidth:   continuous  # minor axis of ellipse [mm] \n",
    "#    3.  fSize:    continuous  # 10-log of sum of content of all pixels [in #phot]\n",
    "#    4.  fConc:    continuous  # ratio of sum of two highest pixels over fSize  [ratio]\n",
    "#    5.  fConc1:   continuous  # ratio of highest pixel over fSize  [ratio]\n",
    "#    6.  fAsym:    continuous  # distance from highest pixel to center, projected onto major axis [mm]\n",
    "#    7.  fM3Long:  continuous  # 3rd root of third moment along major axis  [mm] \n",
    "#    8.  fM3Trans: continuous  # 3rd root of third moment along minor axis  [mm]\n",
    "#    9.  fAlpha:   continuous  # angle of major axis with vector to origin [deg]\n",
    "#   10.  fDist:    continuous  # distance from origin to center of ellipse [mm]\n",
    "#   11.  class:    g,h         # gamma (signal), hadron (background)\n",
    "\n",
    "# Class Distribution:\n",
    "#\n",
    "#   g = gamma (signal):     12332\n",
    "#   h = hadron (background): 6688\n",
    "\n",
    "\n",
    "data_path = 'https://archive.ics.uci.edu/ml/machine-learning-databases/magic/magic04.data'\n",
    "variable_names =['fLength',   'fWidth',  'fSize', 'fConc','fConc1', 'fAsym', \n",
    "                 'fM3Long', 'fM3Trans', 'fAlpha', 'fDist', 'class']\n",
    "\n",
    "df = pd.read_csv(data_path, names=variable_names, na_values='?')\n",
    "\n",
    "# Add a gamma boolean column\n",
    "df.loc[df['class'] == 'g', 'isGamma'] = True\n",
    "df.loc[df['class'] == 'h', 'isGamma'] = False\n",
    "\n",
    "# Add a hadron boolean column\n",
    "df.loc[df['class'] == 'h', 'isHadron'] = True\n",
    "df.loc[df['class'] == 'g', 'isHadron'] = False\n",
    "\n",
    "# Create a new data frame with just gammas\n",
    "df_gammas  = df[df['isGamma'] == True]\n",
    "\n",
    "# Create a new data frame with just hadrons\n",
    "df_hadrons = df[df['isHadron'] == True]\n",
    "\n",
    "# Divide up the data inot training and testing datasets\n",
    "df_gammas_train  = df_gammas.iloc[0:2000]\n",
    "df_gammas_test   = df_gammas.iloc[2000:]\n",
    "df_hadrons_train = df_hadrons.iloc[0:2000]\n",
    "df_hadrons_test  = df_hadrons.iloc[2000:]\n",
    "\n",
    "# Define also a small test sample for plotting purposes \n",
    "df_gammas_test_small   = df_gammas.iloc[2000:2400]\n",
    "df_hadrons_test_small  = df_hadrons.iloc[2000:2400]\n",
    "\n",
    "# put the training datasets back together\n",
    "df_all_train      = pd.concat([df_gammas_train,df_hadrons_train],axis=0)\n",
    "df_all_test       = pd.concat([df_gammas_test,df_hadrons_test],axis=0)\n",
    "df_all_test_small = pd.concat([df_gammas_test_small,df_hadrons_test_small],axis=0)\n",
    "\n",
    "# Define the \"isGamma\" column to be the column which is used to define signal events and background events\n",
    "df_all_train[\"isGamma\"]      = df_all_train[\"isGamma\"].astype('category')\n",
    "df_all_test[\"isGamma\"]       = df_all_test[\"isGamma\"].astype('category')\n",
    "df_all_test_small[\"isGamma\"] = df_all_test_small[\"isGamma\"].astype('category')"
   ]
  },
  {
   "cell_type": "markdown",
   "metadata": {},
   "source": [
    "### Create a 2 variable Boosted Decision Tree with Scikit-Learn"
   ]
  },
  {
   "cell_type": "code",
   "execution_count": 5,
   "metadata": {},
   "outputs": [],
   "source": [
    "# Create a pandas series for each of the two variables\n",
    "s_train_fAlpha    = df_all_train['fAlpha']\n",
    "s_train_fM3Trans  = df_all_train['fM3Trans']\n",
    "\n",
    "# Create a pandas dataframe containing just these two variables\n",
    "df_train_fAlpha_fM3Trans = pd.DataFrame(dict(x=s_train_fAlpha, y=s_train_fM3Trans))\n",
    "\n",
    "# Create a 2D numpy array from this dataframe\n",
    "X_train = df_train_fAlpha_fM3Trans.values\n",
    "\n",
    "# Create a 1D numpy array containing the \"truth\" information for each event in this training dataset\n",
    "y_train = df_all_train[\"isGamma\"].cat.codes.values"
   ]
  },
  {
   "cell_type": "code",
   "execution_count": 6,
   "metadata": {},
   "outputs": [],
   "source": [
    "# Do it again, this time for your testing datasets\n",
    "\n",
    "# Create a pandas series for each of the two variables\n",
    "s_test_fAlpha          = df_all_test['fAlpha']\n",
    "s_test_fM3Trans        = df_all_test['fM3Trans']\n",
    "s_test_small_fAlpha    = df_all_test_small['fAlpha']\n",
    "s_test_small_fM3Trans  = df_all_test_small['fM3Trans']\n",
    "\n",
    "# Create a pandas dataframe containing just these two variables\n",
    "df_test_fAlpha_fM3Trans = pd.DataFrame(dict(x=s_test_fAlpha, y=s_test_fM3Trans))\n",
    "df_test_small_fAlpha_fM3Trans = pd.DataFrame(dict(x=s_test_small_fAlpha, y=s_test_small_fM3Trans))\n",
    "\n",
    "# Create a 2D numpy array from this dataframe\n",
    "X_test = df_test_fAlpha_fM3Trans.values\n",
    "X_test_small = df_test_small_fAlpha_fM3Trans.values\n",
    "\n",
    "# Create a 1D numpy array containing the \"truth\" information for this testing dataset\n",
    "y_test = df_all_test[\"isGamma\"].cat.codes.values\n",
    "y_test_small = df_all_test_small[\"isGamma\"].cat.codes.values\n"
   ]
  },
  {
   "cell_type": "code",
   "execution_count": 7,
   "metadata": {},
   "outputs": [
    {
     "data": {
      "text/html": [
       "<div>\n",
       "<style scoped>\n",
       "    .dataframe tbody tr th:only-of-type {\n",
       "        vertical-align: middle;\n",
       "    }\n",
       "\n",
       "    .dataframe tbody tr th {\n",
       "        vertical-align: top;\n",
       "    }\n",
       "\n",
       "    .dataframe thead th {\n",
       "        text-align: right;\n",
       "    }\n",
       "</style>\n",
       "<table border=\"1\" class=\"dataframe\">\n",
       "  <thead>\n",
       "    <tr style=\"text-align: right;\">\n",
       "      <th></th>\n",
       "      <th>x</th>\n",
       "      <th>y</th>\n",
       "    </tr>\n",
       "  </thead>\n",
       "  <tbody>\n",
       "    <tr>\n",
       "      <th>2000</th>\n",
       "      <td>9.8372</td>\n",
       "      <td>7.5307</td>\n",
       "    </tr>\n",
       "    <tr>\n",
       "      <th>2001</th>\n",
       "      <td>22.9125</td>\n",
       "      <td>-5.3686</td>\n",
       "    </tr>\n",
       "    <tr>\n",
       "      <th>2002</th>\n",
       "      <td>14.8817</td>\n",
       "      <td>13.4788</td>\n",
       "    </tr>\n",
       "    <tr>\n",
       "      <th>2003</th>\n",
       "      <td>14.4978</td>\n",
       "      <td>37.8267</td>\n",
       "    </tr>\n",
       "    <tr>\n",
       "      <th>2004</th>\n",
       "      <td>18.7204</td>\n",
       "      <td>21.9683</td>\n",
       "    </tr>\n",
       "  </tbody>\n",
       "</table>\n",
       "</div>"
      ],
      "text/plain": [
       "            x        y\n",
       "2000   9.8372   7.5307\n",
       "2001  22.9125  -5.3686\n",
       "2002  14.8817  13.4788\n",
       "2003  14.4978  37.8267\n",
       "2004  18.7204  21.9683"
      ]
     },
     "execution_count": 7,
     "metadata": {},
     "output_type": "execute_result"
    }
   ],
   "source": [
    "df_test_fAlpha_fM3Trans.head()"
   ]
  },
  {
   "cell_type": "code",
   "execution_count": 8,
   "metadata": {},
   "outputs": [
    {
     "data": {
      "text/plain": [
       "array([[  9.8372,   7.5307],\n",
       "       [ 22.9125,  -5.3686],\n",
       "       [ 14.8817,  13.4788],\n",
       "       ...,\n",
       "       [ 30.2987,  -9.4662],\n",
       "       [ 84.6874, -63.8389],\n",
       "       [ 52.731 ,  31.4755]])"
      ]
     },
     "execution_count": 8,
     "metadata": {},
     "output_type": "execute_result"
    }
   ],
   "source": [
    "X_test"
   ]
  },
  {
   "cell_type": "code",
   "execution_count": 9,
   "metadata": {},
   "outputs": [
    {
     "data": {
      "text/plain": [
       "array([1, 1, 1, ..., 0, 0, 0], dtype=int8)"
      ]
     },
     "execution_count": 9,
     "metadata": {},
     "output_type": "execute_result"
    }
   ],
   "source": [
    "y_test"
   ]
  },
  {
   "cell_type": "code",
   "execution_count": 10,
   "metadata": {},
   "outputs": [],
   "source": [
    "# create a BDT classifier using AdaBoost\n",
    "\n",
    "bdt_d4_n2 = AdaBoostClassifier(DecisionTreeClassifier(max_depth=4),\n",
    "                         algorithm=\"SAMME\",\n",
    "                         n_estimators=2)\n",
    "\n",
    "# Train the BDT\n",
    "bdt_d4_n2.fit(X_train, y_train)\n",
    "\n",
    "# Get the BDT predicions\n",
    "bdt_d4_n2_pred = bdt_d4_n2.predict(X_test)\n",
    "\n",
    "# Get the BDT prediction probabilities\n",
    "bdt_d4_n2_proba = bdt_d4_n2.predict_proba(X_test)[:,1]"
   ]
  },
  {
   "cell_type": "code",
   "execution_count": 11,
   "metadata": {},
   "outputs": [
    {
     "data": {
      "text/plain": [
       "array([1, 1, 1, ..., 1, 0, 0], dtype=int8)"
      ]
     },
     "execution_count": 11,
     "metadata": {},
     "output_type": "execute_result"
    }
   ],
   "source": [
    "bdt_d4_n2_pred"
   ]
  },
  {
   "cell_type": "code",
   "execution_count": 12,
   "metadata": {},
   "outputs": [
    {
     "data": {
      "text/plain": [
       "array([0.73105858, 0.56712381, 0.56712381, ..., 0.56712381, 0.26894142,\n",
       "       0.26894142])"
      ]
     },
     "execution_count": 12,
     "metadata": {},
     "output_type": "execute_result"
    }
   ],
   "source": [
    "bdt_d4_n2_proba"
   ]
  },
  {
   "cell_type": "code",
   "execution_count": 13,
   "metadata": {},
   "outputs": [
    {
     "data": {
      "image/png": "[encoded data removed]",
      "text/plain": [
       "<Figure size 720x576 with 1 Axes>"
      ]
     },
     "metadata": {
      "needs_background": "light"
     },
     "output_type": "display_data"
    }
   ],
   "source": [
    "# If you were able to install the mlxtend.plotting  tools\n",
    "\n",
    "fig = plt.figure(figsize=(10, 8))\n",
    "fig = plot_decision_regions(X=X_test_small, y=y_test_small, clf=bdt_d4_n2, legend=2)"
   ]
  },
  {
   "cell_type": "code",
   "execution_count": 14,
   "metadata": {},
   "outputs": [
    {
     "data": {
      "text/plain": [
       "[<matplotlib.lines.Line2D at 0x7f8a8a778610>]"
      ]
     },
     "execution_count": 14,
     "metadata": {},
     "output_type": "execute_result"
    },
    {
     "data": {
      "image/png": "[encoded data removed]",
      "text/plain": [
       "<Figure size 576x576 with 1 Axes>"
      ]
     },
     "metadata": {},
     "output_type": "display_data"
    }
   ],
   "source": [
    "# Plot a ROC curve using built-in tools\n",
    "\n",
    "sns.set_style(\"whitegrid\")\n",
    "fig, ax = plt.subplots(1, 1, figsize=(8, 8))\n",
    "fpr, tpr, thresholds = metrics.roc_curve(y_test.astype(bool), bdt_d4_n2_proba)\n",
    "plt.plot(fpr, tpr, color='darkorange')\n"
   ]
  },
  {
   "cell_type": "code",
   "execution_count": 15,
   "metadata": {},
   "outputs": [
    {
     "name": "stdout",
     "output_type": "stream",
     "text": [
      "[0.         0.50067751 0.79665118 0.96941541 1.        ]\n"
     ]
    }
   ],
   "source": [
    "print(tpr)"
   ]
  },
  {
   "cell_type": "code",
   "execution_count": null,
   "metadata": {},
   "outputs": [],
   "source": []
  }
 ],
 "metadata": {
  "kernelspec": {
   "display_name": "Python 3",
   "language": "python",
   "name": "python3"
  },
  "language_info": {
   "codemirror_mode": {
    "name": "ipython",
    "version": 3
   },
   "file_extension": ".py",
   "mimetype": "text/x-python",
   "name": "python",
   "nbconvert_exporter": "python",
   "pygments_lexer": "ipython3",
   "version": "3.9.1"
  }
 },
 "nbformat": 4,
 "nbformat_minor": 2
}
