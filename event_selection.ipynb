{
 "cells": [
  {
   "cell_type": "code",
   "execution_count": 1,
   "id": "988ca9ff",
   "metadata": {},
   "outputs": [
    {
     "name": "stderr",
     "output_type": "stream",
     "text": [
      "/Users/eddie/opt/miniconda3/envs/topcoffea-env/lib/python3.8/site-packages/coffea/nanoevents/schemas/nanoaod.py:193: RuntimeWarning: Missing cross-reference index for FatJet_genJetAK8Idx => GenJetAK8\n",
      "  warnings.warn(\n"
     ]
    }
   ],
   "source": [
    "import awkward as ak\n",
    "import numpy as np\n",
    "from coffea.nanoevents import NanoEventsFactory, NanoAODSchema\n",
    "from coffea import processor, hist\n",
    "\n",
    "fname = \"https://raw.githubusercontent.com/CoffeaTeam/coffea/master/tests/samples/nano_dy.root\"\n",
    "events = NanoEventsFactory.from_root(fname, schemaclass=NanoAODSchema).events()"
   ]
  },
  {
   "cell_type": "code",
   "execution_count": 2,
   "id": "ff77d3e8",
   "metadata": {},
   "outputs": [],
   "source": [
    "leptons = 3\n",
    "charge = None\n",
    "jets = 4"
   ]
  },
  {
   "cell_type": "code",
   "execution_count": 3,
   "id": "a596f51e",
   "metadata": {},
   "outputs": [],
   "source": [
    "if charge != None:\n",
    "    filt_events = events[\n",
    "        ((ak.num(events.Electron) + ak.num(events.Muon)) == leptons) &\n",
    "        ((ak.sum(events.Electron.charge, axis=1)) + (ak.sum(events.Muon.charge, axis=1)) == charge) &\n",
    "        (ak.num(events.Jet) == jets)]\n",
    "else: \n",
    "    filt_events = events[\n",
    "        ((ak.num(events.Electron) + ak.num(events.Muon)) == leptons) &\n",
    "        (ak.num(events.Jet) == jets)]"
   ]
  },
  {
   "cell_type": "code",
   "execution_count": 4,
   "id": "704e576a",
   "metadata": {
    "scrolled": false
   },
   "outputs": [
    {
     "name": "stdout",
     "output_type": "stream",
     "text": [
      "[<event 1:13889:3749781>]\n"
     ]
    }
   ],
   "source": [
    "print(filt_events)"
   ]
  },
  {
   "cell_type": "code",
   "execution_count": 5,
   "id": "295742b0",
   "metadata": {},
   "outputs": [],
   "source": [
    "jet_4_vec = np.array(\n",
    "    [\n",
    "        np.squeeze(ak.to_numpy(filt_events.Jet.pt)),\n",
    "        np.squeeze(ak.to_numpy(filt_events.Jet.eta)),\n",
    "        np.squeeze(ak.to_numpy(filt_events.Jet.phi)),\n",
    "        np.squeeze(ak.to_numpy(filt_events.Jet.mass))\n",
    "    ]\n",
    ")\n",
    "\n",
    "mu_4_vec = np.array(\n",
    "    [\n",
    "        np.squeeze(ak.to_numpy(filt_events.Muon.pt)),\n",
    "        np.squeeze(ak.to_numpy(filt_events.Muon.eta)),\n",
    "        np.squeeze(ak.to_numpy(filt_events.Muon.phi)),\n",
    "        np.squeeze(ak.to_numpy(filt_events.Muon.mass))\n",
    "    ]\n",
    ")\n",
    "\n",
    "\n",
    "el_4_vec = np.array(\n",
    "    [\n",
    "        np.squeeze(ak.to_numpy(filt_events.Electron.pt)),\n",
    "        np.squeeze(ak.to_numpy(filt_events.Electron.eta)),\n",
    "        np.squeeze(ak.to_numpy(filt_events.Electron.phi)),\n",
    "        np.squeeze(ak.to_numpy(filt_events.Electron.mass))\n",
    "    ]\n",
    ")\n",
    "lep_4_vec = np.c_[el_4_vec, mu_4_vec]"
   ]
  },
  {
   "cell_type": "code",
   "execution_count": 6,
   "id": "d766416b",
   "metadata": {},
   "outputs": [
    {
     "name": "stdout",
     "output_type": "stream",
     "text": [
      "[[81.875      53.375      38.03125    25.296875  ]\n",
      " [-2.083496    0.09056091 -4.301758   -3.4301758 ]\n",
      " [-2.7475586   0.47424316 -0.7056885   1.217041  ]\n",
      " [ 9.4921875   0.11138916  7.0507812   4.9648438 ]]\n",
      "[[50.641342   14.330103  ]\n",
      " [ 0.09056091 -2.0439453 ]\n",
      " [ 0.47424316 -2.6386719 ]\n",
      " [ 0.10571289  0.10571289]]\n",
      "[33.151806   -2.1044922  -2.819336   -0.03338623]\n",
      "[[ 3.3151806e+01  5.0641342e+01  1.4330103e+01]\n",
      " [-2.1044922e+00  9.0560913e-02 -2.0439453e+00]\n",
      " [-2.8193359e+00  4.7424316e-01 -2.6386719e+00]\n",
      " [-3.3386230e-02  1.0571289e-01  1.0571289e-01]]\n"
     ]
    }
   ],
   "source": [
    "print(jet_4_vec)\n",
    "print(mu_4_vec)\n",
    "print(el_4_vec)\n",
    "print(lep_4_vec)"
   ]
  },
  {
   "cell_type": "code",
   "execution_count": null,
   "id": "a2bb7fc7",
   "metadata": {},
   "outputs": [],
   "source": []
  },
  {
   "cell_type": "code",
   "execution_count": null,
   "id": "a368c5a5",
   "metadata": {},
   "outputs": [],
   "source": []
  },
  {
   "cell_type": "code",
   "execution_count": null,
   "id": "01681946",
   "metadata": {},
   "outputs": [],
   "source": []
  },
  {
   "cell_type": "code",
   "execution_count": null,
   "id": "6b1fd818",
   "metadata": {},
   "outputs": [],
   "source": []
  }
 ],
 "metadata": {
  "kernelspec": {
   "display_name": "Python 3 (ipykernel)",
   "language": "python",
   "name": "python3"
  },
  "language_info": {
   "codemirror_mode": {
    "name": "ipython",
    "version": 3
   },
   "file_extension": ".py",
   "mimetype": "text/x-python",
   "name": "python",
   "nbconvert_exporter": "python",
   "pygments_lexer": "ipython3",
   "version": "3.8.3"
  }
 },
 "nbformat": 4,
 "nbformat_minor": 5
}
